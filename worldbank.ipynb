{
 "cells": [
  {
   "cell_type": "code",
   "execution_count": 65,
   "metadata": {},
   "outputs": [],
   "source": [
    "import requests\n",
    "from bs4 import BeautifulSoup\n",
    "import pandas as pd"
   ]
  },
  {
   "cell_type": "code",
   "execution_count": 84,
   "metadata": {},
   "outputs": [],
   "source": [
    "url = \"https://data.worldbank.org/country\""
   ]
  },
  {
   "cell_type": "code",
   "execution_count": 85,
   "metadata": {},
   "outputs": [],
   "source": [
    "def get_country_name(url):\n",
    "    \"\"\"\n",
    "    This function takes a world bank site URL as input and scrapes the corresponding webpage \n",
    "    to extract the names of all the countries listed on the page. It returns a \n",
    "    list of country names.\n",
    "\n",
    "    Parameters:\n",
    "    url (str): The URL of the webpage to scrape.\n",
    "\n",
    "    Returns:\n",
    "    list: A list of strings, where each string represents the name of a country.\n",
    "    \"\"\"\n",
    "    content = requests.get(url)\n",
    "    soup = BeautifulSoup(content.text, 'lxml')\n",
    "\n",
    "    #locating the required content from the main div\n",
    "    main_div = soup.find('div', {'class': 'wrapper',\"id\":\"main\"})\n",
    "    sub_main_div = main_div.find('div', {'class': 'overviewArea body'})\n",
    "    all_a = sub_main_div.find_all('a')\n",
    "\n",
    "    countries = []\n",
    "    for a in all_a:\n",
    "        countries.append(a.text)\n",
    "    \n",
    "    return countries\n",
    "\n"
   ]
  },
  {
   "cell_type": "code",
   "execution_count": 86,
   "metadata": {},
   "outputs": [],
   "source": [
    "def fetch_countries_data(countries):\n",
    "    countries_data = []\n",
    "    for country in countries:\n",
    "        country = country.lower()\n",
    "        try:\n",
    "            modified_url = url + \"/\" + country + \"?view=chart\"\n",
    "            content = requests.get(modified_url)\n",
    "            soup = BeautifulSoup(content.text, 'lxml')\n",
    "            download_div = soup.find(\"div\",{'class':'btn-item download'})\n",
    "            excel_download_link = download_div.find_all('a')[2].get(\"href\")\n",
    "            df = pd.read_excel(excel_download_link,skiprows=3,sheet_name='Data')\n",
    "            countries_data.append(df)\n",
    "            print(f\"Successfuly extracted data for {country.title()}.\") \n",
    "        except:\n",
    "            print(f\"Failed to extract data for {country.title()}.\")             \n",
    "    return countries_data"
   ]
  },
  {
   "cell_type": "code",
   "execution_count": 87,
   "metadata": {},
   "outputs": [],
   "source": [
    "def relevant_indicators(keyword,countries_data):\n",
    "    all_relevant_indicators = []\n",
    "    for df in countries_data:\n",
    "        df_relevant_indicators = []\n",
    "        for indicator in df[\"Indicator Name\"]:\n",
    "            if keyword in indicator:\n",
    "                df_relevant_indicators.append(indicator)\n",
    "        all_relevant_indicators.append(df_relevant_indicators)\n",
    "    return all_relevant_indicators\n",
    "        "
   ]
  },
  {
   "cell_type": "code",
   "execution_count": 88,
   "metadata": {},
   "outputs": [],
   "source": [
    "def data_extractor(countries_data,all_relevant_indicators,years):\n",
    "    final_data ={}\n",
    "    for i in range(len(countries)):\n",
    "        df = countries_data[i][[\"Indicator Name\"] + years]\n",
    "        df = df[df[\"Indicator Name\"].isin(all_relevant_indicators[i])]\n",
    "        final_data[f\"{countries[i]}\"]=df.dropna(subset=years,how=\"all\").reset_index(drop=True)\n",
    "    return final_data"
   ]
  },
  {
   "cell_type": "code",
   "execution_count": 89,
   "metadata": {},
   "outputs": [],
   "source": [
    "def compile_pipeline(countries,keyword,years):\n",
    "    countries_data = fetch_countries_data(countries)\n",
    "    all_relevant_indicators = relevant_indicators(keyword,countries_data)\n",
    "    final_data  = data_extractor(countries_data,all_relevant_indicators,years)\n",
    "    return final_data\n",
    "    "
   ]
  },
  {
   "cell_type": "code",
   "execution_count": 90,
   "metadata": {},
   "outputs": [],
   "source": [
    "all_countries = get_country_name(url)  # to get list of all the countries whose data is available "
   ]
  },
  {
   "cell_type": "code",
   "execution_count": 95,
   "metadata": {},
   "outputs": [],
   "source": [
    "countries = [\"India\"]\n",
    "keyword = \"trade\"\n",
    "years = [\"2010\",\"2011\",\"2012\",\"2013\",\"2014\",\"2015\",\"2016\",\"2017\",\"2018\",\"2019\",\"2020\",\"2021\",\"2022\",\"2023\"]"
   ]
  },
  {
   "cell_type": "code",
   "execution_count": 96,
   "metadata": {},
   "outputs": [
    {
     "name": "stdout",
     "output_type": "stream",
     "text": [
      "Successfuly extracted data for India.\n"
     ]
    }
   ],
   "source": [
    "final_data = compile_pipeline(countries,keyword,years)"
   ]
  }
 ],
 "metadata": {
  "kernelspec": {
   "display_name": ".venv",
   "language": "python",
   "name": "python3"
  },
  "language_info": {
   "codemirror_mode": {
    "name": "ipython",
    "version": 3
   },
   "file_extension": ".py",
   "mimetype": "text/x-python",
   "name": "python",
   "nbconvert_exporter": "python",
   "pygments_lexer": "ipython3",
   "version": "3.12.4"
  }
 },
 "nbformat": 4,
 "nbformat_minor": 2
}
