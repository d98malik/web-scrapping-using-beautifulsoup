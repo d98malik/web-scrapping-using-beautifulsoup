{
 "cells": [
  {
   "cell_type": "code",
   "execution_count": 97,
   "metadata": {},
   "outputs": [],
   "source": [
    "import requests\n",
    "from bs4 import BeautifulSoup\n",
    "import pandas as pd"
   ]
  },
  {
   "cell_type": "code",
   "execution_count": 2,
   "metadata": {},
   "outputs": [],
   "source": [
    "url = \"https://www.iplt20.com/auction\""
   ]
  },
  {
   "cell_type": "code",
   "execution_count": 3,
   "metadata": {},
   "outputs": [],
   "source": [
    "page = requests.get(url)\n",
    "soup = BeautifulSoup(page.content, 'lxml')"
   ]
  },
  {
   "cell_type": "code",
   "execution_count": 46,
   "metadata": {},
   "outputs": [
    {
     "data": {
      "text/plain": [
       "<Response [200]>"
      ]
     },
     "execution_count": 46,
     "metadata": {},
     "output_type": "execute_result"
    }
   ],
   "source": [
    "page"
   ]
  },
  {
   "cell_type": "code",
   "execution_count": 10,
   "metadata": {},
   "outputs": [
    {
     "data": {
      "text/plain": [
       "'IPL Auction'"
      ]
     },
     "execution_count": 10,
     "metadata": {},
     "output_type": "execute_result"
    }
   ],
   "source": [
    "soup.title.text"
   ]
  },
  {
   "cell_type": "code",
   "execution_count": 16,
   "metadata": {},
   "outputs": [],
   "source": [
    "main_content_div = soup.find('div', class_=\"tab-content new\")"
   ]
  },
  {
   "cell_type": "code",
   "execution_count": 55,
   "metadata": {},
   "outputs": [],
   "source": [
    "core_div = main_content_div.find(\"div\").find(\"section\").find_all(\"div\",class_=\"container\")[1].find_all(\"div\",class_=\"tab-content\")[0].find_all(\"div\",class_=\"tab-pane fade in active show\")[0].find(\"div\",class_=\"auction-grid-view mt-3\")"
   ]
  },
  {
   "cell_type": "code",
   "execution_count": 59,
   "metadata": {},
   "outputs": [],
   "source": [
    "name_of_teams = []\n",
    "for i in core_div.find_all(\"div\",class_=\"agv-team-name\"):\n",
    "    name_of_teams.append(i.text)"
   ]
  },
  {
   "cell_type": "code",
   "execution_count": 60,
   "metadata": {},
   "outputs": [
    {
     "data": {
      "text/plain": [
       "['Chennai Super Kings',\n",
       " 'Delhi Capitals',\n",
       " 'Gujarat Titans',\n",
       " 'Kolkata Knight Riders',\n",
       " 'Lucknow Super Giants',\n",
       " 'Mumbai Indians',\n",
       " 'Punjab Kings',\n",
       " 'Rajasthan Royals',\n",
       " 'Royal Challengers Bengaluru',\n",
       " 'Sunrisers Hyderabad']"
      ]
     },
     "execution_count": 60,
     "metadata": {},
     "output_type": "execute_result"
    }
   ],
   "source": [
    "name_of_teams"
   ]
  },
  {
   "cell_type": "code",
   "execution_count": 64,
   "metadata": {},
   "outputs": [],
   "source": [
    "span_div = main_content_div.find(\"div\").find(\"section\").find_all(\"div\",class_=\"container\")[1].find_all(\"div\",class_=\"tab-content\")[0].find_all(\"div\",class_=\"tab-pane fade in active show\")[0].find(\"div\",class_=\"auction-grid-view mt-3\").find_all(\"span\")"
   ]
  },
  {
   "cell_type": "code",
   "execution_count": 72,
   "metadata": {},
   "outputs": [],
   "source": [
    "values = []\n",
    "for i in range(len(span_div)):\n",
    "    values.append(span_div[i].text)"
   ]
  },
  {
   "cell_type": "code",
   "execution_count": 89,
   "metadata": {},
   "outputs": [],
   "source": [
    "funds_remaining = values[1::6]"
   ]
  },
  {
   "cell_type": "code",
   "execution_count": 90,
   "metadata": {},
   "outputs": [],
   "source": [
    "overseas_players = values[3::6]"
   ]
  },
  {
   "cell_type": "code",
   "execution_count": 91,
   "metadata": {},
   "outputs": [],
   "source": [
    "total_players=values[5::6]"
   ]
  },
  {
   "cell_type": "code",
   "execution_count": 92,
   "metadata": {},
   "outputs": [
    {
     "data": {
      "text/plain": [
       "['₹1,00,00,000',\n",
       " '₹9,90,00,000',\n",
       " '₹7,85,00,000',\n",
       " '₹1,35,00,000',\n",
       " '₹95,00,000',\n",
       " '₹1,05,00,000',\n",
       " '₹4,15,00,000',\n",
       " '₹20,00,000',\n",
       " '₹2,85,00,000',\n",
       " '₹3,20,00,000']"
      ]
     },
     "execution_count": 92,
     "metadata": {},
     "output_type": "execute_result"
    }
   ],
   "source": []
  },
  {
   "cell_type": "code",
   "execution_count": 93,
   "metadata": {},
   "outputs": [
    {
     "data": {
      "text/plain": [
       "['Chennai Super Kings',\n",
       " 'Delhi Capitals',\n",
       " 'Gujarat Titans',\n",
       " 'Kolkata Knight Riders',\n",
       " 'Lucknow Super Giants',\n",
       " 'Mumbai Indians',\n",
       " 'Punjab Kings',\n",
       " 'Rajasthan Royals',\n",
       " 'Royal Challengers Bengaluru',\n",
       " 'Sunrisers Hyderabad']"
      ]
     },
     "execution_count": 93,
     "metadata": {},
     "output_type": "execute_result"
    }
   ],
   "source": [
    "name_of_teams"
   ]
  },
  {
   "cell_type": "code",
   "execution_count": 94,
   "metadata": {},
   "outputs": [],
   "source": [
    "data = {\"name_of_teams\":name_of_teams,\"funds_remaining\":funds_remaining,\"overseas_players\":overseas_players,\"total_players\":total_players}"
   ]
  },
  {
   "cell_type": "code",
   "execution_count": 95,
   "metadata": {},
   "outputs": [
    {
     "data": {
      "text/plain": [
       "{'name_of_teams': ['Chennai Super Kings',\n",
       "  'Delhi Capitals',\n",
       "  'Gujarat Titans',\n",
       "  'Kolkata Knight Riders',\n",
       "  'Lucknow Super Giants',\n",
       "  'Mumbai Indians',\n",
       "  'Punjab Kings',\n",
       "  'Rajasthan Royals',\n",
       "  'Royal Challengers Bengaluru',\n",
       "  'Sunrisers Hyderabad'],\n",
       " 'funds_remaining': ['₹1,00,00,000',\n",
       "  '₹9,90,00,000',\n",
       "  '₹7,85,00,000',\n",
       "  '₹1,35,00,000',\n",
       "  '₹95,00,000',\n",
       "  '₹1,05,00,000',\n",
       "  '₹4,15,00,000',\n",
       "  '₹20,00,000',\n",
       "  '₹2,85,00,000',\n",
       "  '₹3,20,00,000'],\n",
       " 'overseas_players': ['8', '8', '8', '8', '8', '8', '8', '8', '8', '8'],\n",
       " 'total_players': ['25', '25', '25', '23', '25', '25', '25', '22', '25', '25']}"
      ]
     },
     "execution_count": 95,
     "metadata": {},
     "output_type": "execute_result"
    }
   ],
   "source": [
    "data"
   ]
  },
  {
   "cell_type": "code",
   "execution_count": 98,
   "metadata": {},
   "outputs": [],
   "source": [
    "df = pd.DataFrame(data)"
   ]
  },
  {
   "cell_type": "code",
   "execution_count": 99,
   "metadata": {},
   "outputs": [
    {
     "data": {
      "text/html": [
       "<div>\n",
       "<style scoped>\n",
       "    .dataframe tbody tr th:only-of-type {\n",
       "        vertical-align: middle;\n",
       "    }\n",
       "\n",
       "    .dataframe tbody tr th {\n",
       "        vertical-align: top;\n",
       "    }\n",
       "\n",
       "    .dataframe thead th {\n",
       "        text-align: right;\n",
       "    }\n",
       "</style>\n",
       "<table border=\"1\" class=\"dataframe\">\n",
       "  <thead>\n",
       "    <tr style=\"text-align: right;\">\n",
       "      <th></th>\n",
       "      <th>name_of_teams</th>\n",
       "      <th>funds_remaining</th>\n",
       "      <th>overseas_players</th>\n",
       "      <th>total_players</th>\n",
       "    </tr>\n",
       "  </thead>\n",
       "  <tbody>\n",
       "    <tr>\n",
       "      <th>0</th>\n",
       "      <td>Chennai Super Kings</td>\n",
       "      <td>₹1,00,00,000</td>\n",
       "      <td>8</td>\n",
       "      <td>25</td>\n",
       "    </tr>\n",
       "    <tr>\n",
       "      <th>1</th>\n",
       "      <td>Delhi Capitals</td>\n",
       "      <td>₹9,90,00,000</td>\n",
       "      <td>8</td>\n",
       "      <td>25</td>\n",
       "    </tr>\n",
       "    <tr>\n",
       "      <th>2</th>\n",
       "      <td>Gujarat Titans</td>\n",
       "      <td>₹7,85,00,000</td>\n",
       "      <td>8</td>\n",
       "      <td>25</td>\n",
       "    </tr>\n",
       "    <tr>\n",
       "      <th>3</th>\n",
       "      <td>Kolkata Knight Riders</td>\n",
       "      <td>₹1,35,00,000</td>\n",
       "      <td>8</td>\n",
       "      <td>23</td>\n",
       "    </tr>\n",
       "    <tr>\n",
       "      <th>4</th>\n",
       "      <td>Lucknow Super Giants</td>\n",
       "      <td>₹95,00,000</td>\n",
       "      <td>8</td>\n",
       "      <td>25</td>\n",
       "    </tr>\n",
       "    <tr>\n",
       "      <th>5</th>\n",
       "      <td>Mumbai Indians</td>\n",
       "      <td>₹1,05,00,000</td>\n",
       "      <td>8</td>\n",
       "      <td>25</td>\n",
       "    </tr>\n",
       "    <tr>\n",
       "      <th>6</th>\n",
       "      <td>Punjab Kings</td>\n",
       "      <td>₹4,15,00,000</td>\n",
       "      <td>8</td>\n",
       "      <td>25</td>\n",
       "    </tr>\n",
       "    <tr>\n",
       "      <th>7</th>\n",
       "      <td>Rajasthan Royals</td>\n",
       "      <td>₹20,00,000</td>\n",
       "      <td>8</td>\n",
       "      <td>22</td>\n",
       "    </tr>\n",
       "    <tr>\n",
       "      <th>8</th>\n",
       "      <td>Royal Challengers Bengaluru</td>\n",
       "      <td>₹2,85,00,000</td>\n",
       "      <td>8</td>\n",
       "      <td>25</td>\n",
       "    </tr>\n",
       "    <tr>\n",
       "      <th>9</th>\n",
       "      <td>Sunrisers Hyderabad</td>\n",
       "      <td>₹3,20,00,000</td>\n",
       "      <td>8</td>\n",
       "      <td>25</td>\n",
       "    </tr>\n",
       "  </tbody>\n",
       "</table>\n",
       "</div>"
      ],
      "text/plain": [
       "                 name_of_teams funds_remaining overseas_players total_players\n",
       "0          Chennai Super Kings    ₹1,00,00,000                8            25\n",
       "1               Delhi Capitals    ₹9,90,00,000                8            25\n",
       "2               Gujarat Titans    ₹7,85,00,000                8            25\n",
       "3        Kolkata Knight Riders    ₹1,35,00,000                8            23\n",
       "4         Lucknow Super Giants      ₹95,00,000                8            25\n",
       "5               Mumbai Indians    ₹1,05,00,000                8            25\n",
       "6                 Punjab Kings    ₹4,15,00,000                8            25\n",
       "7             Rajasthan Royals      ₹20,00,000                8            22\n",
       "8  Royal Challengers Bengaluru    ₹2,85,00,000                8            25\n",
       "9          Sunrisers Hyderabad    ₹3,20,00,000                8            25"
      ]
     },
     "execution_count": 99,
     "metadata": {},
     "output_type": "execute_result"
    }
   ],
   "source": [
    "df"
   ]
  },
  {
   "cell_type": "code",
   "execution_count": null,
   "metadata": {},
   "outputs": [],
   "source": []
  }
 ],
 "metadata": {
  "kernelspec": {
   "display_name": ".venv",
   "language": "python",
   "name": "python3"
  },
  "language_info": {
   "codemirror_mode": {
    "name": "ipython",
    "version": 3
   },
   "file_extension": ".py",
   "mimetype": "text/x-python",
   "name": "python",
   "nbconvert_exporter": "python",
   "pygments_lexer": "ipython3",
   "version": "3.12.4"
  }
 },
 "nbformat": 4,
 "nbformat_minor": 2
}
